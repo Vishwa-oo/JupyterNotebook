{
 "cells": [
  {
   "cell_type": "markdown",
   "id": "cc06681c-6fcf-4bf1-b6dc-3f623bc29224",
   "metadata": {},
   "source": [
    "# Data Science Tools And Ecosystem"
   ]
  },
  {
   "cell_type": "markdown",
   "id": "e8673a8b-35d8-4e75-8cd2-1893b4957360",
   "metadata": {},
   "source": [
    "## In this notebook, Data Science Tools and Ecosystem are summarized."
   ]
  },
  {
   "cell_type": "markdown",
   "id": "5b705d24-0292-437e-8693-47d6a78a4a4f",
   "metadata": {},
   "source": [
    "**Objectives:**   \n",
    "|Unordered List|\n",
    "|--------------|\n",
    "|1.Python      |\n",
    "|2.c++         |\n",
    "|3.C Language  |\n",
    "|4.Julia       |"
   ]
  },
  {
   "cell_type": "markdown",
   "id": "0f14116f-69e8-4a5d-92e3-488b4f3f0718",
   "metadata": {},
   "source": [
    "#### Some of the popular languages that Data Scientists use are:"
   ]
  },
  {
   "cell_type": "markdown",
   "id": "cd8ed512-33ba-4d1b-9293-241cc7455afe",
   "metadata": {},
   "source": [
    "|  OrderedList |\n",
    "|--------------|\n",
    "|  python      |\n",
    "|  Java        |\n",
    "|   c++        |"
   ]
  },
  {
   "cell_type": "markdown",
   "id": "c3728023-e952-4217-bdd3-5a5d306961ec",
   "metadata": {},
   "source": [
    "#### Some of the commonly used libraries used by Data Scientists include:\n"
   ]
  },
  {
   "cell_type": "markdown",
   "id": "3f6bdeac-998a-42a7-be85-243c7d57d6ac",
   "metadata": {},
   "source": [
    "| OrderedList  |\n",
    "|--------------|\n",
    "| scikit learn |\n",
    "| Matplotlib   |\n",
    "| JUlia        |    "
   ]
  },
  {
   "cell_type": "markdown",
   "id": "62cbf21c-7bc6-46f7-8b07-924570b32c7a",
   "metadata": {},
   "source": [
    "|Data Science Tools|\n",
    "|------------------|\n",
    "|    Anaconda      |\n",
    "|    jupyter Lite  |\n",
    "|    Google colab  |"
   ]
  },
  {
   "cell_type": "markdown",
   "id": "7f12d5dc-f241-4d6c-a5d9-f28f35f3d3bd",
   "metadata": {},
   "source": [
    "### Below are a few examples of evaluating arithmetic expressions in Python"
   ]
  },
  {
   "cell_type": "code",
   "execution_count": 2,
   "id": "437fd83f-0f7d-41ef-8f7a-4827af86d0c8",
   "metadata": {},
   "outputs": [
    {
     "data": {
      "text/plain": [
       "17"
      ]
     },
     "execution_count": 2,
     "metadata": {},
     "output_type": "execute_result"
    }
   ],
   "source": [
    "# This a simple arithmetic expression to mutiply then add integers.\n",
    "(3*4)+5"
   ]
  },
  {
   "cell_type": "code",
   "execution_count": 3,
   "id": "f38b1f6e-1b02-41f2-a323-4c0ce94479f3",
   "metadata": {},
   "outputs": [
    {
     "data": {
      "text/plain": [
       "3.3333333333333335"
      ]
     },
     "execution_count": 3,
     "metadata": {},
     "output_type": "execute_result"
    }
   ],
   "source": [
    "       200/60                   #This will convert 200 minutes to hours by diving by 60."
   ]
  },
  {
   "cell_type": "markdown",
   "id": "3602dc46-bc40-4b92-a41d-7d79996384c7",
   "metadata": {},
   "source": [
    "## AUTHOR\n",
    "Vishwanath S Navalagund"
   ]
  },
  {
   "cell_type": "code",
   "execution_count": null,
   "id": "0385a71a-1e1e-4d49-bebd-234b1c216e0e",
   "metadata": {},
   "outputs": [],
   "source": []
  }
 ],
 "metadata": {
  "kernelspec": {
   "display_name": "Python 3 (ipykernel)",
   "language": "python",
   "name": "python3"
  },
  "language_info": {
   "codemirror_mode": {
    "name": "ipython",
    "version": 3
   },
   "file_extension": ".py",
   "mimetype": "text/x-python",
   "name": "python",
   "nbconvert_exporter": "python",
   "pygments_lexer": "ipython3",
   "version": "3.12.4"
  }
 },
 "nbformat": 4,
 "nbformat_minor": 5
}
